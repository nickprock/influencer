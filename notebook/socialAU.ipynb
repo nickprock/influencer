{
  "nbformat": 4,
  "nbformat_minor": 0,
  "metadata": {
    "colab": {
      "name": "socialAU.ipynb",
      "provenance": [],
      "collapsed_sections": [],
      "authorship_tag": "ABX9TyPYPBtVcOZAzZclZ4ohDCiN",
      "include_colab_link": true
    },
    "kernelspec": {
      "name": "python3",
      "display_name": "Python 3"
    },
    "language_info": {
      "name": "python"
    },
    "accelerator": "GPU"
  },
  "cells": [
    {
      "cell_type": "markdown",
      "metadata": {
        "id": "view-in-github",
        "colab_type": "text"
      },
      "source": [
        "<a href=\"https://colab.research.google.com/github/nickprock/influencer/blob/master/notebook/socialAU.ipynb\" target=\"_parent\"><img src=\"https://colab.research.google.com/assets/colab-badge.svg\" alt=\"Open In Colab\"/></a>"
      ]
    },
    {
      "cell_type": "code",
      "execution_count": 1,
      "metadata": {
        "id": "kGOlrAOCT4ay",
        "colab": {
          "base_uri": "https://localhost:8080/"
        },
        "outputId": "1c8a9fad-18a1-4375-8fd2-56c59c0902fc"
      },
      "outputs": [
        {
          "output_type": "execute_result",
          "data": {
            "text/plain": [
              "True"
            ]
          },
          "metadata": {},
          "execution_count": 1
        }
      ],
      "source": [
        "import torch\n",
        "import numpy as np\n",
        "torch.cuda.is_available()"
      ]
    },
    {
      "cell_type": "code",
      "source": [
        "!pip install git+https://github.com/nickprock/influencer.git"
      ],
      "metadata": {
        "id": "quFT1x4sT7Zx",
        "colab": {
          "base_uri": "https://localhost:8080/"
        },
        "outputId": "2f15452b-b9b7-45f9-a494-30678d765b75"
      },
      "execution_count": 2,
      "outputs": [
        {
          "output_type": "stream",
          "name": "stdout",
          "text": [
            "Collecting git+https://github.com/nickprock/influencer.git\n",
            "  Cloning https://github.com/nickprock/influencer.git to /tmp/pip-req-build-fedlmqbv\n",
            "  Running command git clone -q https://github.com/nickprock/influencer.git /tmp/pip-req-build-fedlmqbv\n",
            "Requirement already satisfied: numpy in /usr/local/lib/python3.7/dist-packages (from influencer==0.2.0) (1.19.5)\n",
            "Requirement already satisfied: torch in /usr/local/lib/python3.7/dist-packages (from influencer==0.2.0) (1.10.0+cu111)\n",
            "Requirement already satisfied: typing-extensions in /usr/local/lib/python3.7/dist-packages (from torch->influencer==0.2.0) (3.10.0.2)\n"
          ]
        }
      ]
    },
    {
      "cell_type": "code",
      "source": [
        "import influencer\n",
        "influencer.__version__"
      ],
      "metadata": {
        "colab": {
          "base_uri": "https://localhost:8080/",
          "height": 36
        },
        "id": "evMZwJUUlhB4",
        "outputId": "c9a798bd-d347-4afb-dc0f-92343e9cb8ba"
      },
      "execution_count": 3,
      "outputs": [
        {
          "output_type": "execute_result",
          "data": {
            "application/vnd.google.colaboratory.intrinsic+json": {
              "type": "string"
            },
            "text/plain": [
              "'0.2.0'"
            ]
          },
          "metadata": {},
          "execution_count": 3
        }
      ]
    },
    {
      "cell_type": "code",
      "source": [
        "from influencer.centrality import socialAU as npsAU\n",
        "from influencer.torch_centrality import socialAU as torchsAU"
      ],
      "metadata": {
        "id": "3jF_84qTljQ5"
      },
      "execution_count": 4,
      "outputs": []
    },
    {
      "cell_type": "code",
      "source": [
        "import time"
      ],
      "metadata": {
        "id": "gZQjGFXbVgY0"
      },
      "execution_count": 5,
      "outputs": []
    },
    {
      "cell_type": "markdown",
      "source": [
        "rifare esperimento con numpy e torch separati, torch senza trasformazione, con tensore direttamente"
      ],
      "metadata": {
        "id": "RuROJdHebcd7"
      }
    },
    {
      "cell_type": "code",
      "source": [
        "np_time = []\n",
        "torch_time = []\n",
        "axe = []\n",
        "user = [5, 10, 100, 500, 1000]\n",
        "item = [5, 10, 100, 500, 1000]\n",
        "\n"
      ],
      "metadata": {
        "id": "Cz5XftfiUSl1"
      },
      "execution_count": 6,
      "outputs": []
    },
    {
      "cell_type": "code",
      "source": [
        "# RAM is full using numpy with 10^9 nodes, runtime crush\n",
        "word = [5, 10, 100, 500]\n",
        "\n",
        "for u in user:\n",
        "  for i in item:\n",
        "    for w in word:\n",
        "      userNet = np.random.rand(u, u)\n",
        "      userNet[userNet>0.5]=1\n",
        "      userNet[userNet<=0.5]=0\n",
        "      itemNet = np.random.rand(i, i)\n",
        "      itemNet[itemNet>0.5]=1\n",
        "      itemNet[itemNet<=0.5]=0\n",
        "      wordNet = np.random.rand(w, w)\n",
        "      wordNet[wordNet>0.5]=1\n",
        "      wordNet[wordNet<=0.5]=0\n",
        "      ten = np.random.rand(u,i,w)\n",
        "      ten[ten>0.5]=1\n",
        "      ten[ten<=0.5]=0\n",
        "      start_time1 = time.time()\n",
        "      _, _, _ = npsAU(userNet, itemNet, wordNet, ten)\n",
        "      exe_time1 = time.time() - start_time1\n",
        "      np_time.append(exe_time1)\n"
      ],
      "metadata": {
        "id": "BWQQpV3Sm9to"
      },
      "execution_count": 7,
      "outputs": []
    },
    {
      "cell_type": "code",
      "source": [
        "word = [5, 10, 100, 500, 1000]\n",
        "\n",
        "for u in user:\n",
        "  for i in item:\n",
        "    for w in word:\n",
        "      userNet = torch.rand(u, u).float().to(0)\n",
        "      userNet[userNet>0.5]=1\n",
        "      userNet[userNet<=0.5]=0\n",
        "      itemNet = torch.rand(i, i).float().to(0)\n",
        "      itemNet[itemNet>0.5]=1\n",
        "      itemNet[itemNet<=0.5]=0\n",
        "      wordNet = torch.rand(w, w).float().to(0)\n",
        "      wordNet[wordNet>0.5]=1\n",
        "      wordNet[wordNet<=0.5]=0\n",
        "      ten = torch.rand(u,i,w).float().to(0)\n",
        "      ten[ten>0.5]=1\n",
        "      ten[ten<=0.5]=0\n",
        "      start_time2 = time.time()\n",
        "      _, _, _ = torchsAU(userNet, itemNet, wordNet, ten)\n",
        "      exe_time2 = time.time() - start_time2\n",
        "      torch_time.append(exe_time2)\n",
        "      axe.append(torch.numel(ten))"
      ],
      "metadata": {
        "id": "LF3HgYRjm9m4"
      },
      "execution_count": 8,
      "outputs": []
    },
    {
      "cell_type": "code",
      "source": [
        "import matplotlib.pyplot as plt"
      ],
      "metadata": {
        "id": "DRfOGMGcWy7h"
      },
      "execution_count": 9,
      "outputs": []
    },
    {
      "cell_type": "code",
      "source": [
        "plt.figure(figsize=(18,10))\n",
        "plt.scatter(axe[:-25], np_time)\n",
        "plt.scatter(axe, torch_time)\n",
        "plt.legend([\"numpy\", \"torch\"])\n",
        "plt.xlabel(\"num. nodes\")\n",
        "plt.ylabel(\"time\")\n",
        "plt.show()"
      ],
      "metadata": {
        "id": "oc3DhCe8W_a8",
        "colab": {
          "base_uri": "https://localhost:8080/",
          "height": 498
        },
        "outputId": "40a88e44-66d1-4b1c-d9de-5bff7b31af56"
      },
      "execution_count": 10,
      "outputs": [
        {
          "output_type": "display_data",
          "data": {
            "image/png": "[encoded data removed]",
            "text/plain": [
              "<Figure size 1296x720 with 1 Axes>"
            ]
          },
          "metadata": {
            "needs_background": "light"
          }
        }
      ]
    },
    {
      "cell_type": "code",
      "source": [
        ""
      ],
      "metadata": {
        "id": "BwttUJJhws35"
      },
      "execution_count": 10,
      "outputs": []
    }
  ]
}